{
 "cells": [
  {
   "cell_type": "code",
   "execution_count": 1,
   "id": "11bc5a68-d27f-4cd8-b0e0-6f28bc5583ae",
   "metadata": {
    "tags": []
   },
   "outputs": [
    {
     "name": "stdout",
     "output_type": "stream",
     "text": [
      "✅ C++ header file saved as model_data.h\n"
     ]
    }
   ],
   "source": [
    "import sys\n",
    "\n",
    "def generate_c_array(tflite_model_path, c_file_path, array_name):\n",
    "    with open(tflite_model_path, 'rb') as f:\n",
    "        tflite_model = f.read()\n",
    "\n",
    "    with open(c_file_path, 'w') as f:\n",
    "        # Add header guard\n",
    "        f.write(f\"#ifndef {array_name.upper()}_H\\n\")\n",
    "        f.write(f\"#define {array_name.upper()}_H\\n\\n\")\n",
    "\n",
    "        # Include necessary headers\n",
    "        f.write(\"#include <cstdint>\\n\\n\")\n",
    "\n",
    "        # Define the TFLite model array with memory alignment\n",
    "        f.write(f\"alignas(16) const unsigned char {array_name}[] = {{\\n\")\n",
    "\n",
    "        # Format model data as hex\n",
    "        for i, byte in enumerate(tflite_model):\n",
    "            if i % 12 == 0:\n",
    "                f.write(\"    \")\n",
    "            f.write(f\"0x{byte:02x}, \")\n",
    "            if (i + 1) % 12 == 0:\n",
    "                f.write(\"\\n\")\n",
    "        f.write(\"\\n};\\n\\n\")\n",
    "\n",
    "        # Define model length\n",
    "        f.write(f\"const unsigned int {array_name}_len = {len(tflite_model)};\\n\\n\")\n",
    "\n",
    "        # End header guard\n",
    "        f.write(f\"#endif // {array_name.upper()}_H\\n\")\n",
    "\n",
    "if __name__ == '__main__':\n",
    "    # Define paths and array name\n",
    "    tflite_model_path = \"detect.tflite\"\n",
    "    c_file_path = \"model_data.h\"\n",
    "    array_name = \"model_tflite\"\n",
    "\n",
    "    generate_c_array(tflite_model_path, c_file_path, array_name)\n",
    "    print(f\"✅ C++ header file saved as {c_file_path}\")\n"
   ]
  },
  {
   "cell_type": "code",
   "execution_count": null,
   "id": "18afca19-11be-47eb-8983-73031615c943",
   "metadata": {},
   "outputs": [],
   "source": []
  }
 ],
 "metadata": {
  "kernelspec": {
   "display_name": "Python 3",
   "language": "python",
   "name": "python3"
  },
  "language_info": {
   "codemirror_mode": {
    "name": "ipython",
    "version": 3
   },
   "file_extension": ".py",
   "mimetype": "text/x-python",
   "name": "python",
   "nbconvert_exporter": "python",
   "pygments_lexer": "ipython3",
   "version": "3.12.0"
  }
 },
 "nbformat": 4,
 "nbformat_minor": 5
}
