{
 "cells": [
  {
   "cell_type": "code",
   "execution_count": 1,
   "id": "fb77c18f-60da-4992-8f2b-e5fdf34da766",
   "metadata": {},
   "outputs": [
    {
     "name": "stderr",
     "output_type": "stream",
     "text": [
      "WARNING:absl:Please consider providing the trackable_obj argument in the from_concrete_functions. Providing without the trackable_obj argument is deprecated and it will use the deprecated conversion path.\n",
      "C:\\Users\\KK\\yolov4-env\\lib\\site-packages\\tensorflow\\lite\\python\\convert.py:746: UserWarning: Statistics for quantized inputs were expected, but not specified; continuing anyway.\n",
      "  warnings.warn(\"Statistics for quantized inputs were expected, but not \"\n"
     ]
    },
    {
     "name": "stdout",
     "output_type": "stream",
     "text": [
      "✅ MobileNetV2 SSD converted to FULL INT8!\n"
     ]
    }
   ],
   "source": [
    "import tensorflow as tf\n",
    "import numpy as np\n",
    "import glob\n",
    "import cv2\n",
    "\n",
    "SAVED_MODEL_DIR = \"C:/Users/KK/Desktop/NPR2/exported_tflite_model/saved_model\"\n",
    "OUTPUT_TFLITE_MODEL = \"C:/Users/KK/Desktop/NPR2/exported_tflite_model/detect_int8.tflite\"\n",
    "\n",
    "def representative_data_gen():\n",
    "    image_paths = glob.glob(\"C:/Users/KK/Desktop/NPR2/images/train/*.jpg\")\n",
    "    for image_path in image_paths[:100]:\n",
    "        img = cv2.imread(image_path)\n",
    "        img = cv2.resize(img, (320, 320))  # Match model input size\n",
    "        img = cv2.cvtColor(img, cv2.COLOR_BGR2RGB)\n",
    "        img = img.astype(np.float32) / 255.0  # ✅ Normalize to [0, 1]\n",
    "        img = np.expand_dims(img, axis=0)\n",
    "        yield [img]\n",
    "\n",
    "model = tf.saved_model.load(SAVED_MODEL_DIR)\n",
    "concrete_func = model.signatures[\"serving_default\"]  # Extract function\n",
    "\n",
    "converter = tf.lite.TFLiteConverter.from_concrete_functions([concrete_func])\n",
    "converter.optimizations = [tf.lite.Optimize.DEFAULT]\n",
    "converter.representative_dataset = representative_data_gen\n",
    "converter.target_spec.supported_ops = [tf.lite.OpsSet.TFLITE_BUILTINS_INT8]\n",
    "\n",
    "# 🔥 **Set Explicit Quantization Parameters**\n",
    "converter.inference_input_type = tf.uint8  # Force INT8 input\n",
    "converter.inference_output_type = tf.uint8  # Force INT8 output\n",
    "\n",
    "# ✅ Convert Model\n",
    "tflite_model = converter.convert()\n",
    "\n",
    "# ✅ Save Model\n",
    "with open(OUTPUT_TFLITE_MODEL, \"wb\") as f:\n",
    "    f.write(tflite_model)\n",
    "\n",
    "print(\"✅ MobileNetV2 SSD converted to FULL INT8!\")"
   ]
  }
 ],
 "metadata": {
  "kernelspec": {
   "display_name": "yolov4-env",
   "language": "python",
   "name": "yolov4-env"
  },
  "language_info": {
   "codemirror_mode": {
    "name": "ipython",
    "version": 3
   },
   "file_extension": ".py",
   "mimetype": "text/x-python",
   "name": "python",
   "nbconvert_exporter": "python",
   "pygments_lexer": "ipython3",
   "version": "3.7.0"
  }
 },
 "nbformat": 4,
 "nbformat_minor": 5
}
